{
 "cells": [
  {
   "cell_type": "markdown",
   "metadata": {},
   "source": [
    "1. Budget Analysis\n",
    "\n",
    "Write a program that asks the user to enter the amount that he/she has budgeted monthly (one time input). A loop should then prompt the user to enter their expenses fore each of the past 6 months.\n",
    "\n",
    "The program should display, with a descriptive message:\n",
    "\n",
    "- the amount and the percentage that the user is over or under budget each month\n",
    "- the amount and percentage that the user is over or under budget on average over the past 6 months\n",
    "- the amount and % of spending increase/decrease between the months (month 1 vs 2, 2 vs 3, etc.) [extra credit]\n",
    "\n",
    "All user input amounts need to have input validations. All output amounts need to have appropriate format (2 decimal places, %, $, thousand separator) where applicable.\n",
    "Use functions for input validations and also for computing the spending increase/decrease and the difference between budget and actual spending.\n",
    "\n",
    "\n",
    "2. Profit Analysis\n",
    "\n",
    "Write a program that asks a manager at a company to enter the following:\n",
    "\n",
    "- the percentage of total sales that is typically their company's annual profit\n",
    "- the projected amount of total sales for this year (2021)\n",
    "- the amount of total sales for the previous 5 years \n",
    "\n",
    "It then should display the following (each with a descriptive message):\n",
    "\n",
    "- the profit that will be made from the current year's projected total sales\n",
    "- the profit made from each of the previous 5 year's total sales\n",
    "- the % of profit increase/decrease between the years (2021 vs 2020, 2020 vs 2019, etc.) [extra credit]\n",
    "\n",
    "All the displayed amounts need to have 2 decimal places, a thousand separator where applicable, and with appropriate symbol accompanied (% or $). The program also needs to have appropriate input validation for all of the amounts that the user has to enter. Use functions for input validations and also for computing the amount and % of increase/decrease in profit."
   ]
  },
  {
   "cell_type": "code",
   "execution_count": 7,
   "metadata": {},
   "outputs": [
    {
     "name": "stdout",
     "output_type": "stream",
     "text": [
      "Enter your monthly budget\n"
     ]
    },
    {
     "name": "stdin",
     "output_type": "stream",
     "text": [
      " 1000\n"
     ]
    },
    {
     "name": "stdout",
     "output_type": "stream",
     "text": [
      "\n",
      "Enter your total expense for month 1\n"
     ]
    },
    {
     "name": "stdin",
     "output_type": "stream",
     "text": [
      " 2000\n"
     ]
    },
    {
     "name": "stdout",
     "output_type": "stream",
     "text": [
      "\n",
      "Difference between your spending this month and your budget is $ 1,000.00 (100.00%)\n",
      "\n",
      "Enter your total expense for month 2\n"
     ]
    },
    {
     "name": "stdin",
     "output_type": "stream",
     "text": [
      " 3000\n"
     ]
    },
    {
     "name": "stdout",
     "output_type": "stream",
     "text": [
      "\n",
      "Difference between your spending this month and your budget is $ 2,000.00 (200.00%)\n",
      "Difference between your spending this month and last month is $ 1,000.00 (50.00%)\n",
      "\n",
      "Enter your total expense for month 3\n"
     ]
    },
    {
     "name": "stdin",
     "output_type": "stream",
     "text": [
      " 3000\n"
     ]
    },
    {
     "name": "stdout",
     "output_type": "stream",
     "text": [
      "\n",
      "Difference between your spending this month and your budget is $ 2,000.00 (200.00%)\n",
      "Difference between your spending this month and last month is $ 0.00 (0.00%)\n",
      "\n",
      "Enter your total expense for month 4\n"
     ]
    },
    {
     "name": "stdin",
     "output_type": "stream",
     "text": [
      " 4000\n"
     ]
    },
    {
     "name": "stdout",
     "output_type": "stream",
     "text": [
      "\n",
      "Difference between your spending this month and your budget is $ 3,000.00 (300.00%)\n",
      "Difference between your spending this month and last month is $ 1,000.00 (33.33%)\n",
      "\n",
      "Enter your total expense for month 5\n"
     ]
    },
    {
     "name": "stdin",
     "output_type": "stream",
     "text": [
      " 2000\n"
     ]
    },
    {
     "name": "stdout",
     "output_type": "stream",
     "text": [
      "\n",
      "Difference between your spending this month and your budget is $ 1,000.00 (100.00%)\n",
      "Difference between your spending this month and last month is $ -2,000.00 (-50.00%)\n",
      "\n",
      "Enter your total expense for month 6\n"
     ]
    },
    {
     "name": "stdin",
     "output_type": "stream",
     "text": [
      " 1000\n"
     ]
    },
    {
     "name": "stdout",
     "output_type": "stream",
     "text": [
      "\n",
      "Difference between your spending this month and your budget is $ 0.00 (0.00%)\n",
      "Difference between your spending this month and last month is $ -1,000.00 (-50.00%)\n",
      "\n",
      "The average difference between your monthly expenses and budget for the past 6 months: 1,500.00 (150.00%)\n"
     ]
    }
   ],
   "source": [
    "# 1. Simple version\n",
    "def input_valid():\n",
    "    x = float(input())\n",
    "    while x < 0:\n",
    "        x = float(input(\"Enter a non-negative number please\"))\n",
    "    return x\n",
    "\n",
    "print(\"Enter your monthly budget\")\n",
    "budget = input_valid()\n",
    "\n",
    "def Diff(x, y):\n",
    "    diff_amount = y - x\n",
    "    diff_pct = (y - x)/x\n",
    "    return diff_amount, diff_pct\n",
    "\n",
    "total_spending = 0\n",
    "total_pct_diff = 0 # total % difference between monthly budget & expenses\n",
    "spending_prevmonth = 0 # last month's expense\n",
    "\n",
    "for i in range(1, 7):\n",
    "    print(\"\\nEnter your total expense for month \" + str(i))\n",
    "    spending_currmonth = input_valid()\n",
    "    budget_diff, budget_diff_pct = Diff(budget, spending_currmonth)\n",
    "    print(\"\\nDifference between your spending this month and your budget is $\", \n",
    "          format(budget_diff, \",.2f\") + \" (\" + \n",
    "          format(budget_diff_pct, \",.2%\") + \")\")\n",
    "        \n",
    "    if i >= 2:  # only compare to spending of previous month when current month >= 2\n",
    "        spending_diff, spending_diff_pct = Diff(spending_prevmonth, spending_currmonth)\n",
    "        print(\"Difference between your spending this month and last month is $\",  \n",
    "              format(spending_diff, \",.2f\") + \" (\" + \n",
    "              format(spending_diff_pct, \",.2%\") + \")\")\n",
    "        \n",
    "    total_spending += spending_currmonth\n",
    "    total_pct_diff += budget_diff_pct\n",
    "    spending_prevmonth = spending_currmonth\n",
    "    \n",
    "print(\"\\Average difference between your monthly expenses and budget\", \n",
    "      \"for the past 6 months is $\", \n",
    "      format((total_spending - budget*6)/6, \",.2f\") + \" (\" +\n",
    "      format(total_pct_diff/6, \",.2%\") + \")\")\n"
   ]
  },
  {
   "cell_type": "code",
   "execution_count": 13,
   "metadata": {},
   "outputs": [
    {
     "name": "stdout",
     "output_type": "stream",
     "text": [
      "Enter your monthly budget\n"
     ]
    },
    {
     "name": "stdin",
     "output_type": "stream",
     "text": [
      " 1000\n"
     ]
    },
    {
     "name": "stdout",
     "output_type": "stream",
     "text": [
      "\n",
      "Enter your total expense for month 1\n"
     ]
    },
    {
     "name": "stdin",
     "output_type": "stream",
     "text": [
      " 1000\n"
     ]
    },
    {
     "name": "stdout",
     "output_type": "stream",
     "text": [
      "\n",
      "You spent exactly as budgeted.\n",
      "\n",
      "Enter your total expense for month 2\n"
     ]
    },
    {
     "name": "stdin",
     "output_type": "stream",
     "text": [
      " 2000\n"
     ]
    },
    {
     "name": "stdout",
     "output_type": "stream",
     "text": [
      "\n",
      "You spent over your budget in month 2 by $ 1,000.00 (100.00%)\n",
      "Compared to last month, your spending this month increased by $ 1,000.00 (100.00%)\n",
      "\n",
      "Enter your total expense for month 3\n"
     ]
    },
    {
     "name": "stdin",
     "output_type": "stream",
     "text": [
      " 1000\n"
     ]
    },
    {
     "name": "stdout",
     "output_type": "stream",
     "text": [
      "\n",
      "You spent exactly as budgeted.\n",
      "Compared to last month, your spending this month decreased by $ 1,000.00 (50.00%)\n",
      "\n",
      "Enter your total expense for month 4\n"
     ]
    },
    {
     "name": "stdin",
     "output_type": "stream",
     "text": [
      " 3000\n"
     ]
    },
    {
     "name": "stdout",
     "output_type": "stream",
     "text": [
      "\n",
      "You spent over your budget in month 4 by $ 2,000.00 (200.00%)\n",
      "Compared to last month, your spending this month increased by $ 2,000.00 (200.00%)\n",
      "\n",
      "Enter your total expense for month 5\n"
     ]
    },
    {
     "name": "stdin",
     "output_type": "stream",
     "text": [
      " 1000\n"
     ]
    },
    {
     "name": "stdout",
     "output_type": "stream",
     "text": [
      "\n",
      "You spent exactly as budgeted.\n",
      "Compared to last month, your spending this month decreased by $ 2,000.00 (66.67%)\n",
      "\n",
      "Enter your total expense for month 6\n"
     ]
    },
    {
     "name": "stdin",
     "output_type": "stream",
     "text": [
      " 5000\n"
     ]
    },
    {
     "name": "stdout",
     "output_type": "stream",
     "text": [
      "\n",
      "You spent over your budget in month 6 by $ 4,000.00 (400.00%)\n",
      "Compared to last month, your spending this month increased by $ 4,000.00 (400.00%)\n",
      "\n",
      "Average difference ($) between your monthly budget and expenses for the past 6 months is $ 1,166.67\n",
      "Average difference (%) between your monthly budget and expenses for the past 6 months is 116.67%\n"
     ]
    }
   ],
   "source": [
    "## 1: more complex version\n",
    "\n",
    "def input_valid():\n",
    "    x = float(input())\n",
    "    while x < 0:\n",
    "        x = float(input(\"Enter a non-negative number please\"))\n",
    "    return x\n",
    "\n",
    "print(\"Enter your monthly budget\")\n",
    "budget = input_valid()\n",
    "\n",
    "def Diff(x, y):\n",
    "    diff_amount = y - x\n",
    "    diff_pct = (y - x)/x\n",
    "    return diff_amount, diff_pct\n",
    "\n",
    "total_spending = 0\n",
    "total_pct_diff = 0 # total % difference between monthly budget & expenses\n",
    "spending_prevmonth = 0 # last month's expense\n",
    "\n",
    "for i in range(1, 7):\n",
    "    print(\"\\nEnter your total expense for month \" + str(i))\n",
    "    spending_currmonth = input_valid()\n",
    "    budget_diff, budget_diff_pct = Diff(budget, spending_currmonth)\n",
    "\n",
    "    if budget_diff > 0:\n",
    "        compare_to_budget = \"over\"\n",
    "    elif budget_diff < 0:\n",
    "        compare_to_budget = \"under\"\n",
    "\n",
    "    if budget_diff == 0:\n",
    "        print(\"\\nYou spent exactly as budgeted.\")\n",
    "    else:\n",
    "        print(\"\\nYou spent\", compare_to_budget, \"your budget in month\", str(i), \"by $\", \n",
    "              format(abs(budget_diff), \",.2f\") + \" (\" + \n",
    "              format(abs(budget_diff_pct), \",.2%\") + \")\")\n",
    "        \n",
    "    if i >= 2: # only compare to spending of previous month when current month >= 2\n",
    "        spending_diff, spending_diff_pct = Diff(spending_prevmonth, spending_currmonth)\n",
    "        if spending_diff > 0:\n",
    "            compare_to_prevmonth = \"increased\"\n",
    "        elif spending_diff < 0:\n",
    "            compare_to_prevmonth = \"decreased\"\n",
    "        \n",
    "        if spending_diff == 0:\n",
    "            print(\"No difference in spending between this and last month.\")\n",
    "        else:\n",
    "            print(\"Compared to last month, your spending this month\", \n",
    "                  compare_to_prevmonth, \"by $\", \n",
    "                  format(abs(spending_diff), \",.2f\") + \" (\" + \n",
    "                  format(abs(spending_diff_pct), \",.2%\") + \")\")\n",
    "    \n",
    "    total_spending += spending_currmonth\n",
    "    total_pct_diff += budget_diff_pct\n",
    "    spending_prevmonth = spending_currmonth\n",
    "    \n",
    "print(\"\\nAverage difference ($) between your monthly budget and expenses\", \n",
    "      \"for the past 6 months is $\", \n",
    "      format((total_spending - budget*6)/6, \",.2f\"))\n",
    "print(\"Average difference (%) between your monthly budget and expenses\",\n",
    "      \"for the past 6 months is\", \n",
    "      format(total_pct_diff/6, \",.2%\"))"
   ]
  },
  {
   "cell_type": "code",
   "execution_count": 10,
   "metadata": {},
   "outputs": [
    {
     "name": "stdout",
     "output_type": "stream",
     "text": [
      "Enter the % of total sales that is typically your company's annual profit:\n"
     ]
    },
    {
     "name": "stdin",
     "output_type": "stream",
     "text": [
      " 20\n"
     ]
    },
    {
     "name": "stdout",
     "output_type": "stream",
     "text": [
      "Enter the projected sales for this year - 2021:\n"
     ]
    },
    {
     "name": "stdin",
     "output_type": "stream",
     "text": [
      " 100000\n"
     ]
    },
    {
     "name": "stdout",
     "output_type": "stream",
     "text": [
      "Enter the sales for year 2020\n"
     ]
    },
    {
     "name": "stdin",
     "output_type": "stream",
     "text": [
      " 80000\n"
     ]
    },
    {
     "name": "stdout",
     "output_type": "stream",
     "text": [
      "Profit for year 2020 : $ 16,000.00\n",
      "Profit change from year 2020 to year 2021: $4,000.00 (25.00%)\n",
      "Enter the sales for year 2019\n"
     ]
    },
    {
     "name": "stdin",
     "output_type": "stream",
     "text": [
      " 30000\n"
     ]
    },
    {
     "name": "stdout",
     "output_type": "stream",
     "text": [
      "Profit for year 2019 : $ 6,000.00\n",
      "Profit change from year 2019 to year 2020: $10,000.00 (166.67%)\n",
      "Enter the sales for year 2018\n"
     ]
    },
    {
     "name": "stdin",
     "output_type": "stream",
     "text": [
      " 80000\n"
     ]
    },
    {
     "name": "stdout",
     "output_type": "stream",
     "text": [
      "Profit for year 2018 : $ 16,000.00\n",
      "Profit change from year 2018 to year 2019: $-10,000.00 (-62.50%)\n",
      "Enter the sales for year 2017\n"
     ]
    },
    {
     "name": "stdin",
     "output_type": "stream",
     "text": [
      " 90000\n"
     ]
    },
    {
     "name": "stdout",
     "output_type": "stream",
     "text": [
      "Profit for year 2017 : $ 18,000.00\n",
      "Profit change from year 2017 to year 2018: $-2,000.00 (-11.11%)\n",
      "Enter the sales for year 2016\n"
     ]
    },
    {
     "name": "stdin",
     "output_type": "stream",
     "text": [
      " 60000\n"
     ]
    },
    {
     "name": "stdout",
     "output_type": "stream",
     "text": [
      "Profit for year 2016 : $ 12,000.00\n",
      "Profit change from year 2016 to year 2017: $6,000.00 (50.00%)\n"
     ]
    }
   ],
   "source": [
    "## 2\n",
    "def input_valid():\n",
    "    x = float(input())\n",
    "    while x < 0:\n",
    "        x = float(input(\"Enter a non-negative number please\"))\n",
    "    return x\n",
    "\n",
    "def Diff(x, y):\n",
    "    diff_amount = y - x\n",
    "    diff_pct = (y - x)/x\n",
    "    return diff_amount, diff_pct\n",
    "\n",
    "print(\"Enter the % of total sales that is typically your company's annual profit:\")\n",
    "annprofit_pct = input_valid()/100\n",
    "\n",
    "print(\"Enter the projected sales for this year - 2021:\")\n",
    "sales_2021 = input_valid()\n",
    "profit_2021 = annprofit_pct * sales_2021\n",
    "\n",
    "profit_subseqyear = 0\n",
    "for i in range(2020, 2015, -1):\n",
    "    print(\"\\nEnter the sales for year\", str(i))\n",
    "    sales = input_valid()\n",
    "    profit = annprofit_pct * sales\n",
    "    print(\"Profit for year\", str(i), \": $\", format(profit, \",.2f\"))\n",
    "    \n",
    "    if i == 2020: \n",
    "        profit_diff, profit_diff_pct = Diff(profit, profit_2021)\n",
    "    else:\n",
    "        profit_diff, profit_diff_pct = Diff(profit, profit_subseqyear)\n",
    "\n",
    "    profit_subseqyear = profit\n",
    "    \n",
    "    print(\"Profit change from year\", str(i), \"to year\", str(i+1) + \": $\" +\n",
    "         format(profit_diff, \",.2f\") + \" (\" +\n",
    "         format(profit_diff_pct, \",.2%\") + \")\")\n"
   ]
  }
 ],
 "metadata": {
  "kernelspec": {
   "display_name": "Python 3",
   "language": "python",
   "name": "python3"
  },
  "language_info": {
   "codemirror_mode": {
    "name": "ipython",
    "version": 3
   },
   "file_extension": ".py",
   "mimetype": "text/x-python",
   "name": "python",
   "nbconvert_exporter": "python",
   "pygments_lexer": "ipython3",
   "version": "3.8.8"
  }
 },
 "nbformat": 4,
 "nbformat_minor": 4
}
