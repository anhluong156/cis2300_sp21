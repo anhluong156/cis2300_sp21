{
 "cells": [
  {
   "cell_type": "markdown",
   "metadata": {},
   "source": [
    "### Midterm Review"
   ]
  },
  {
   "cell_type": "markdown",
   "metadata": {},
   "source": [
    "1. The following code is incomplete. Add to the code so that the program will do the following tasks:\n",
    "\n",
    "- Prompts user to input 3 stick lengths\n",
    "- If user enters non-positive numbers, the program has to make user re-enter the length again until the input is positive (>0)\n",
    "- The output of the program should be \"No\" if the length of one of the sticks is greater than the sum of the other two sticks' lengths, and \"Yes\" if otherwise.\n",
    "\n",
    "        def is_triangle():\n",
    "             if (a > b + c) or (b > a + c) or (c > a + b): \n",
    "                 print(\"No\")\n",
    "             else:\n",
    "                 print(\"Yes\")\n",
    "        is_triangle()"
   ]
  },
  {
   "cell_type": "code",
   "execution_count": 5,
   "metadata": {},
   "outputs": [
    {
     "name": "stdin",
     "output_type": "stream",
     "text": [
      "Please enter a positive number for stick 1's length 1\n",
      "Please enter a positive number for stick 2's length 2\n",
      "Please enter a positive number for stick 3's length 3\n"
     ]
    },
    {
     "name": "stdout",
     "output_type": "stream",
     "text": [
      "Yes\n"
     ]
    }
   ],
   "source": [
    "## 1.\n",
    "\n",
    "a = float(input('Please enter a positive number for stick 1\\'s length'))\n",
    "while a <= 0:\n",
    "    a = float(input('Error: Please enter a positive number'))\n",
    "\n",
    "b = float(input('Please enter a positive number for stick 2\\'s length'))\n",
    "while b <= 0:\n",
    "    b = float(input('Error: Please enter a positive number'))\n",
    "\n",
    "c = float(input('Please enter a positive number for stick 3\\'s length'))\n",
    "while c <= 0:\n",
    "    c = float(input('Error: Please enter a positive number'))\n",
    "    \n",
    "def is_triangle(a, b, c):\n",
    "    if (a > b + c) or (b > a + c) or (c > a + b): \n",
    "        print(\"No\")\n",
    "    else:\n",
    "        print(\"Yes\")\n",
    "            \n",
    "is_triangle(a, b, c)"
   ]
  },
  {
   "cell_type": "markdown",
   "metadata": {},
   "source": [
    "2. Modify the program in #1 so that there's a function called is_positive (in addition to the function is_triangle) that prompts user to enter stick length, and checks whether input is greater than 0 or not. If not, user has to re-enter value again. Call the function 3 times so that correctly entered values are assigned to a, b, and c. And output of program should be the same as output of program in 11"
   ]
  },
  {
   "cell_type": "code",
   "execution_count": 2,
   "metadata": {},
   "outputs": [
    {
     "name": "stdout",
     "output_type": "stream",
     "text": [
      "Stick 1:\n"
     ]
    },
    {
     "name": "stdin",
     "output_type": "stream",
     "text": [
      "Please enter the stick's length: 3\n"
     ]
    },
    {
     "name": "stdout",
     "output_type": "stream",
     "text": [
      "Stick 2:\n"
     ]
    },
    {
     "name": "stdin",
     "output_type": "stream",
     "text": [
      "Please enter the stick's length: 2\n"
     ]
    },
    {
     "name": "stdout",
     "output_type": "stream",
     "text": [
      "Stick 3:\n"
     ]
    },
    {
     "name": "stdin",
     "output_type": "stream",
     "text": [
      "Please enter the stick's length: 1\n"
     ]
    },
    {
     "name": "stdout",
     "output_type": "stream",
     "text": [
      "Yes\n"
     ]
    }
   ],
   "source": [
    "## 2.\n",
    "\n",
    "def is_triangle(a, b, c):\n",
    "    if (a > b + c) or (b > a + c) or (c > a + b): \n",
    "        print(\"No\")\n",
    "    else:\n",
    "        print(\"Yes\")\n",
    "        \n",
    "def is_positive():\n",
    "    num = float(input('Please enter the stick\\'s length:'))\n",
    "    while num <= 0:\n",
    "        num = float(input('Please enter a positive number:'))\n",
    "    return num\n",
    "        \n",
    "print('Stick 1:')\n",
    "x = is_positive()\n",
    "print('Stick 2:')\n",
    "y = is_positive()\n",
    "print('Stick 3:')\n",
    "z = is_positive()\n",
    "\n",
    "is_triangle(x, y, z)"
   ]
  },
  {
   "cell_type": "markdown",
   "metadata": {},
   "source": [
    "3. Explain briefly what is wrong with this code, and how to fix it.\n",
    "\n",
    "        def sum_digits():\n",
    "            num = input(\"Enter a number: \")\n",
    "            total = 0\n",
    "            for i in num:\n",
    "                total += int(i)\n",
    "                return total\n",
    "        \n",
    "        print(\"The sum of your number's digits is: \", total)"
   ]
  },
  {
   "cell_type": "code",
   "execution_count": 8,
   "metadata": {},
   "outputs": [
    {
     "name": "stdin",
     "output_type": "stream",
     "text": [
      "Enter a number:  1234\n"
     ]
    },
    {
     "name": "stdout",
     "output_type": "stream",
     "text": [
      "The sum of your number's digits is:  10\n"
     ]
    }
   ],
   "source": [
    "## 3. \n",
    "## total is a local var and thus cannot be called outside of the function\n",
    "## corrected code below:\n",
    "\n",
    "def sum_digits():\n",
    "    num = input(\"Enter a number: \") \n",
    "    total = 0\n",
    "    for i in num: \n",
    "        total += int(i)\n",
    "    return total # local variable\n",
    "\n",
    "digitSum = sum_digits() # global variable\n",
    "print(\"The sum of your number's digits is: \", digitSum)"
   ]
  },
  {
   "cell_type": "markdown",
   "metadata": {},
   "source": [
    "4. Explain briefly what is wrong with this code, and how to fix it, if the purpose of the program is to output correctly entered value (positive number) which is assigned to variable a.\n",
    "\n",
    "\n",
    "        def invalid_input(num):\n",
    "            return num < 0  \n",
    "          \n",
    "        a = int(input(\"Enter a positive number:\"))\n",
    "        \n",
    "        if invalid_input(num):\n",
    "            a = int(input(\"Enter a positive number:\"))\n",
    "        else:\n",
    "            print(a)\n"
   ]
  },
  {
   "cell_type": "code",
   "execution_count": 15,
   "metadata": {},
   "outputs": [
    {
     "name": "stdin",
     "output_type": "stream",
     "text": [
      "Enter a positive number: -7\n",
      "Enter a positive number: 7\n"
     ]
    },
    {
     "name": "stdout",
     "output_type": "stream",
     "text": [
      "7\n"
     ]
    }
   ],
   "source": [
    "## 4. \n",
    "## 1) the argument passed to invalid_input needs to be a, not num. \n",
    "## 2) also to have program keep asking user to re-enter value until correct\n",
    "## a while loop needs to be used, not if-else.\n",
    "## corrected code below:\n",
    "\n",
    "def invalid_input(num):\n",
    "    return num <= 0  \n",
    "\n",
    "a = int(input(\"Enter a positive number:\"))\n",
    "\n",
    "while invalid_input(a): \n",
    "    a = int(input(\"Enter a positive number:\"))\n",
    "\n",
    "print(a)"
   ]
  },
  {
   "cell_type": "markdown",
   "metadata": {},
   "source": [
    "5. Write a program that asks a manager at a company to enter the following:\n",
    "- the percentage of total sales that is typically their company's annual profit  \n",
    "- the projected amount of total sales for this year (2021)\n",
    "- the amount of total sales for last year (2020)\n",
    "\n",
    "It then should display the following (each with a descriptive message):\n",
    "- the profit that will be made from the current year's projected total sales \n",
    "- the profit made from last year's total sales\n",
    "- the difference in $ between this year's projected profit and last year's profit\n",
    "- the % of profit increase/decrease from last year to this year\n",
    "\n",
    "All the displayed amounts need to have 2 decimal places, a thousand separator where applicable, and with appropriate symbol accompanied (% or $). The program also needs to have appropriate input validation for all of the amounts that the user has to enter.\n"
   ]
  },
  {
   "cell_type": "code",
   "execution_count": 7,
   "metadata": {},
   "outputs": [
    {
     "name": "stdout",
     "output_type": "stream",
     "text": [
      "What percentage of sales are typically profit? (enter 20 for 20%)\n"
     ]
    },
    {
     "name": "stdin",
     "output_type": "stream",
     "text": [
      " 20\n"
     ]
    },
    {
     "name": "stdout",
     "output_type": "stream",
     "text": [
      "What is the projected sales amount for the year 2021?\n"
     ]
    },
    {
     "name": "stdin",
     "output_type": "stream",
     "text": [
      " 40000\n"
     ]
    },
    {
     "name": "stdout",
     "output_type": "stream",
     "text": [
      "What were the sales from the year 2020?\n"
     ]
    },
    {
     "name": "stdin",
     "output_type": "stream",
     "text": [
      " 15000\n"
     ]
    },
    {
     "name": "stdout",
     "output_type": "stream",
     "text": [
      "The profit expected for 2021 is:\n",
      "$8,000.00\n",
      "The profit from 2020 is:\n",
      "$3,000.00\n",
      "The difference between this year and last year's profits is projected to be:\n",
      "$5,000.00\n",
      "The percentage difference between this year and last year's profits is projected to be:\n",
      "166.67%\n"
     ]
    }
   ],
   "source": [
    "## 5.\n",
    "def valid_input():\n",
    "    x = float(input())\n",
    "    while x < 0:\n",
    "        x = float(input(\"Please input a positive number: \"))\n",
    "    return x\n",
    "\n",
    "print('What percentage of sales are typically profit? (enter 20 for 20%)')\n",
    "profit = valid_input()/100\n",
    "\n",
    "print('What is the projected sales amount for the year 2021?')\n",
    "sales21 = valid_input()\n",
    "\n",
    "print('What were the sales from the year 2020?')\n",
    "sales20 = valid_input()\n",
    "\n",
    "print('The profit expected for 2021 is:')\n",
    "profit21 = profit * sales21\n",
    "print('$' + format(profit21, ',.2f'))\n",
    "\n",
    "print('The profit from 2020 is:')\n",
    "profit20 = profit * sales20\n",
    "print('$' + format(profit20, ',.2f'))\n",
    "\n",
    "print('The difference between this year and last year\\'s profits is projected to be:')\n",
    "print('$' + format(profit21 - profit20, ',.2f'))\n",
    "\n",
    "print('The percentage difference between this year and last year\\'s profits is projected to be:')\n",
    "percentdif = (profit21 - profit20)/profit20\n",
    "print(format(percentdif,',.2%'))"
   ]
  },
  {
   "cell_type": "markdown",
   "metadata": {},
   "source": [
    "6. Budget Analysis.\n",
    "\n",
    "Write a program that asks the user to enter the amount that he/she has budgeted for a month.\n",
    "A loop should then prompt the user to enter each of his or her expenses for the month and keep a running total.\n",
    "\n",
    "When the loop finishes, the program should display:\n",
    "- the amount and the percentage that the user is over or under budget, using if statement. (e.g. You exceeded your budget by 400 dollars (20 percent)). \n",
    "\n",
    "All user input amounts need to have input validations. All output amounts need to have appropriate format (2 decimal places, %, thousand separator) where applicable. "
   ]
  },
  {
   "cell_type": "code",
   "execution_count": null,
   "metadata": {},
   "outputs": [],
   "source": [
    "## 6.\n",
    "budget = float(input(\"Please enter your budget for the month: \"))\n",
    "while budget <= 0:\n",
    "    budget = float(input(\"Please enter a positive amount for the budget\"))\n",
    "\n",
    "total_expenses = 0\n",
    "\n",
    "keep_going = 'y'\n",
    "while keep_going == 'y':\n",
    "    expense = float(input(\"Record each expense during the month.\"))\n",
    "    while expense <= 0:\n",
    "        expense = float(input(\"Enter a positive number for each expense.\"))\n",
    "    total_expenses += float(expense)\n",
    "    keep_going = input(\"Record another expense? Type 'y' for yes.\")\n",
    "\n",
    "bal = budget - total_expenses\n",
    "pct_diff = bal / budget\n",
    "\n",
    "if bal < 0:\n",
    "    bal *= -1\n",
    "    pct_diff *= -1\n",
    "    print(\"You are over your budget by $\", format(bal, \",.2f\"),\n",
    "          \"(\" + format(pct_diff, \",.2%\") + \")\", \"this month.\")\n",
    "elif bal == 0:\n",
    "    print(\"You have just enough to make it through this month\")\n",
    "\n",
    "else:\n",
    "    print(\"You are under your budget by $\", format(bal, \",.2f\"),\n",
    "          \"(\" + format(pct_diff, \",.2%\") + \")\", \"this month.\")"
   ]
  }
 ],
 "metadata": {
  "kernelspec": {
   "display_name": "Python 3",
   "language": "python",
   "name": "python3"
  },
  "language_info": {
   "codemirror_mode": {
    "name": "ipython",
    "version": 3
   },
   "file_extension": ".py",
   "mimetype": "text/x-python",
   "name": "python",
   "nbconvert_exporter": "python",
   "pygments_lexer": "ipython3",
   "version": "3.8.8"
  }
 },
 "nbformat": 4,
 "nbformat_minor": 4
}
