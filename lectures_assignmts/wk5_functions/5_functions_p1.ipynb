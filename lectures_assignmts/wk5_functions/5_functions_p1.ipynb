{
 "cells": [
  {
   "cell_type": "markdown",
   "metadata": {},
   "source": [
    "## Week 5: Functions\n"
   ]
  },
  {
   "cell_type": "markdown",
   "metadata": {},
   "source": [
    "#### Overview\n",
    "\n",
    "- named sequence of statements that performs an action/computation\n",
    "- Define function with:\n",
    "    + name\n",
    "    + order (sequence) of statements\n",
    "- Call function by its name"
   ]
  },
  {
   "cell_type": "markdown",
   "metadata": {},
   "source": [
    "#### Why Functions?\n",
    "- Easier to read, test, and debug\n",
    "- Eliminates repetitive code\n",
    "- Code Reuse\n",
    "- Faster Dev\n",
    "- Easier Collaboration\n"
   ]
  },
  {
   "cell_type": "markdown",
   "metadata": {},
   "source": [
    "#### Python's Built In Functions\n",
    "    len()\n",
    "    int()\n",
    "    float()\n",
    "    str()\n",
    "    abs()\n",
    "    min()\n",
    "    max()\n",
    "    ..."
   ]
  },
  {
   "cell_type": "markdown",
   "metadata": {},
   "source": [
    "#### Defining Functions; Flow of Execution"
   ]
  },
  {
   "cell_type": "markdown",
   "metadata": {},
   "source": [
    "- Defining a Function\n",
    "        def function_name():\n",
    "            statement\n",
    "            statement\n",
    "            etc.\n",
    "- Calling a Function\n",
    "        function_name()"
   ]
  },
  {
   "cell_type": "code",
   "execution_count": 16,
   "metadata": {},
   "outputs": [
    {
     "name": "stdout",
     "output_type": "stream",
     "text": [
      "I am Arthur,\n",
      "King of the Britons.\n",
      "Goodbye!\n"
     ]
    }
   ],
   "source": [
    "def message():\n",
    "    print('I am Arthur,')\n",
    "    print('King of the Britons.')\n",
    "    \n",
    "def main():\n",
    "    message()\n",
    "    print('Goodbye!')\n",
    "# Call the main function.\n",
    "main()"
   ]
  },
  {
   "cell_type": "code",
   "execution_count": 15,
   "metadata": {},
   "outputs": [
    {
     "name": "stdout",
     "output_type": "stream",
     "text": [
      "I am Arthur,\n",
      "King of the Britons.\n",
      "Goodbye!\n",
      "None\n"
     ]
    }
   ],
   "source": [
    "a = main()"
   ]
  },
  {
   "cell_type": "code",
   "execution_count": 17,
   "metadata": {},
   "outputs": [
    {
     "name": "stdout",
     "output_type": "stream",
     "text": [
      "None\n"
     ]
    },
    {
     "data": {
      "text/plain": [
       "NoneType"
      ]
     },
     "execution_count": 17,
     "metadata": {},
     "output_type": "execute_result"
    }
   ],
   "source": [
    "print(a)\n",
    "type(a)"
   ]
  },
  {
   "cell_type": "markdown",
   "metadata": {},
   "source": [
    "#### Parameters and Arguments\n",
    "\n",
    "Exercise 1. Examine the following function header, and then write a statement that calls the function, passing 12 as an argument.\n",
    "\n",
    "def show_value(quantity):"
   ]
  },
  {
   "cell_type": "markdown",
   "metadata": {},
   "source": [
    "Exercise 2.\n",
    "\n",
    "    def my_function(a, b, c):\n",
    "        d = (a + c) / b\n",
    "        print(d)\n",
    "\n",
    "2.1. Write a statement that calls the above function and uses keyword arguments to pass 2 into a, 4 into b, and 6 into c.\n",
    "\n",
    "2.2. What value will be displayed when the function call executes?\n",
    "\n",
    "\n",
    "Exercise 3. Write a function named times_ten. The function should accept an argument and display the product of its argument multiplied by 10.\n"
   ]
  },
  {
   "cell_type": "markdown",
   "metadata": {},
   "source": [
    "#### Global vs. Local"
   ]
  },
  {
   "cell_type": "code",
   "execution_count": 20,
   "metadata": {
    "scrolled": true
   },
   "outputs": [
    {
     "ename": "NameError",
     "evalue": "name 'combine' is not defined",
     "output_type": "error",
     "traceback": [
      "\u001b[0;31m---------------------------------------------------------------------------\u001b[0m",
      "\u001b[0;31mNameError\u001b[0m                                 Traceback (most recent call last)",
      "\u001b[0;32m<ipython-input-20-8f18c4bcf8b1>\u001b[0m in \u001b[0;36m<module>\u001b[0;34m\u001b[0m\n\u001b[1;32m     12\u001b[0m \u001b[0mphrase2\u001b[0m \u001b[0;34m=\u001b[0m \u001b[0;34m'tiddle bang.'\u001b[0m\u001b[0;34m\u001b[0m\u001b[0;34m\u001b[0m\u001b[0m\n\u001b[1;32m     13\u001b[0m \u001b[0;34m\u001b[0m\u001b[0m\n\u001b[0;32m---> 14\u001b[0;31m \u001b[0mprint\u001b[0m\u001b[0;34m(\u001b[0m\u001b[0mcombine\u001b[0m\u001b[0;34m)\u001b[0m\u001b[0;34m\u001b[0m\u001b[0;34m\u001b[0m\u001b[0m\n\u001b[0m\u001b[1;32m     15\u001b[0m \u001b[0mcombine_twice\u001b[0m\u001b[0;34m(\u001b[0m\u001b[0mphrase1\u001b[0m\u001b[0;34m,\u001b[0m \u001b[0mphrase2\u001b[0m\u001b[0;34m)\u001b[0m\u001b[0;34m\u001b[0m\u001b[0;34m\u001b[0m\u001b[0m\n",
      "\u001b[0;31mNameError\u001b[0m: name 'combine' is not defined"
     ]
    }
   ],
   "source": [
    "# what is wrong with this code? \n",
    "\n",
    "def print_twice(s):\n",
    "    print(s)\n",
    "    print(s) \n",
    "\n",
    "def combine_twice(part1, part2):\n",
    "    combine = part1 + part2 \n",
    "    print_twice(combine) \n",
    "\n",
    "phrase1 = 'Bing tiddle '\n",
    "phrase2 = 'tiddle bang.'\n",
    "\n",
    "print(combine)\n",
    "combine_twice(phrase1, phrase2) "
   ]
  },
  {
   "cell_type": "markdown",
   "metadata": {},
   "source": [
    "#### Function types:\n",
    "\n",
    "- Functions with no parameter\n",
    "- Functions with single parameter\n",
    "- Functions with multiple parameters\n",
    "- Functions that return value(s) (value-returning/fruitful functions)\n",
    "- Functions that don't return value(s) (void functions)"
   ]
  },
  {
   "cell_type": "markdown",
   "metadata": {},
   "source": [
    "#### Void Functions vs. Value-Returning (Fruitful) Functions"
   ]
  },
  {
   "cell_type": "markdown",
   "metadata": {},
   "source": [
    "##### Return values\n",
    "- Single return statement\n",
    "- Multiple return statements (one in each conditional branch)\n",
    "    + only one will be executed\n",
    "    + function ends after return statement executes\n",
    "\n",
    "##### Dead code:\n",
    "- code following a return statement\n",
    "- any code that the flow of execution can never reach"
   ]
  },
  {
   "cell_type": "code",
   "execution_count": null,
   "metadata": {},
   "outputs": [],
   "source": [
    "# what's wrong in this code?\n",
    "\n",
    "# Square Function:\n",
    "\n",
    "def square():\n",
    "    y = x**2\n",
    "    return y\n",
    "    print('The square of', x, 'is', y) \n",
    "\n",
    "square()"
   ]
  },
  {
   "cell_type": "code",
   "execution_count": 22,
   "metadata": {},
   "outputs": [],
   "source": [
    "# correct the code above so that user can enter any number and the program will output the square of that number\n"
   ]
  },
  {
   "cell_type": "code",
   "execution_count": null,
   "metadata": {},
   "outputs": [],
   "source": [
    "#is this a fruitful function?\n",
    "\n",
    "def message(): # function header\n",
    "    print('I am Arthur,') # function body\n",
    "    print('King of the Britons.') # function body\n",
    "    \n",
    "def main():\n",
    "    print('I have a message for you.')\n",
    "    message()\n",
    "    print('Goodbye!')\n",
    "\n",
    "# Call the main function.\n",
    "main()"
   ]
  },
  {
   "cell_type": "markdown",
   "metadata": {},
   "source": [
    "#### Review:\n",
    "- Parameters (when you write functions)\n",
    "- Arguments (when you call functions, you pass arguments into the function name)\n",
    "- Function header\n",
    "- Function body\n",
    "- docstring"
   ]
  },
  {
   "cell_type": "markdown",
   "metadata": {},
   "source": [
    "#### Debugging\n",
    "- Correct Indentation: tabs/spaces\n",
    "- Local vs. Global var\n",
    "- Define variable/function first before calling it\n",
    "- For long programs:\n",
    "    + look at the rough middle of your program\n",
    "    + add and run a print statement for a variable in your program that you can check\n",
    "    + if the print statement causes an error ==> there is an error in the first half\n",
    "    + if no error ==> then the error is in the second half of program\n",
    "    + you lower the number of lines of code you have to check to search for the bug"
   ]
  },
  {
   "cell_type": "markdown",
   "metadata": {},
   "source": [
    "Exercise 4. Write a function named get_first_name that asks the user to enter his or her first name, and returns it.\n",
    "\n",
    "\n",
    "Exercise 5. Write a function named welcome() that asks the user to enter his or her name and displays it followed by a welcome message."
   ]
  }
 ],
 "metadata": {
  "kernelspec": {
   "display_name": "Python 3",
   "language": "python",
   "name": "python3"
  },
  "language_info": {
   "codemirror_mode": {
    "name": "ipython",
    "version": 3
   },
   "file_extension": ".py",
   "mimetype": "text/x-python",
   "name": "python",
   "nbconvert_exporter": "python",
   "pygments_lexer": "ipython3",
   "version": "3.8.8"
  }
 },
 "nbformat": 4,
 "nbformat_minor": 4
}
