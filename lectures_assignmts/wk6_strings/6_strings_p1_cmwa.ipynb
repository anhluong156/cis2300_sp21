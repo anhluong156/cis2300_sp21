{
 "cells": [
  {
   "cell_type": "markdown",
   "metadata": {},
   "source": [
    "# Strings"
   ]
  },
  {
   "cell_type": "markdown",
   "metadata": {},
   "source": [
    "### Outline:\n",
    "    A string is a sequence\n",
    "    Strings are Immutable\n",
    "    Indexing Strings\n",
    "    Traversing Strings\n",
    "    Slicing Strings\n",
    "    String Methods\n",
    "    Parsing Strings"
   ]
  },
  {
   "cell_type": "code",
   "execution_count": 14,
   "metadata": {},
   "outputs": [
    {
     "data": {
      "text/plain": [
       "12"
      ]
     },
     "execution_count": 14,
     "metadata": {},
     "output_type": "execute_result"
    }
   ],
   "source": [
    "## Strings: A sequence of characters\n",
    "## indexing strings - to access individual characters in a string\n",
    "s = 'hello'\n",
    "mp = 'monty python'\n",
    "\n",
    "si = s[0]\n",
    "#print(si)\n",
    "\n",
    "#print(s[5])\n",
    "\n",
    "#print(s[-2])\n",
    "# len function\n",
    "# index error \n",
    "len(mp)"
   ]
  },
  {
   "cell_type": "markdown",
   "metadata": {},
   "source": [
    "###### String Indexing\n",
    "<img src=\"https://developers.google.com/edu/python/images/hello.png\">\n",
    "<font size=-2>\n",
    "<p  style=\"text-align:right\">&copy; Google</p>\n",
    "</font>"
   ]
  },
  {
   "cell_type": "code",
   "execution_count": 17,
   "metadata": {},
   "outputs": [
    {
     "name": "stdout",
     "output_type": "stream",
     "text": [
      "T\n",
      "Timothy\n"
     ]
    }
   ],
   "source": [
    "# Immutability of Strings\n",
    "name = 'Tim'\n",
    "print(name[0])\n",
    "\n",
    "#name[0] = 'J' # => wouldnt work cause strings are immutable\n",
    "\n",
    "name += 'othy'  # can work  - strings can be modified by adding more letters to them \n",
    "print(name)"
   ]
  },
  {
   "cell_type": "markdown",
   "metadata": {},
   "source": [
    "### Traversing Strings\n",
    "Traversing simply involves examining the string to process one character at a time. Typically, we start from the beginning, select each character, process it, and then repeat this process until the desired end point. <br>\n",
    "\n",
    "Exercise: <br>\n",
    "Traverse the String and print the individual characters in a string.<br>\n",
    "Ask the user to enter a number and then print the total of the individual digits.  If the user enters 1234, the program would print 10 (i.e. the sum of 1+2+3+4)<br>\n"
   ]
  },
  {
   "cell_type": "code",
   "execution_count": 19,
   "metadata": {},
   "outputs": [
    {
     "name": "stdout",
     "output_type": "stream",
     "text": [
      "<class 'str'>\n",
      "0 s\n",
      "1 t\n",
      "2 a\n",
      "3 r\n",
      "4 b\n",
      "5 u\n",
      "6 c\n",
      "7 k\n",
      "8 s\n"
     ]
    }
   ],
   "source": [
    "coffee = 'starbucks'\n",
    "print(type(coffee))\n",
    "num = 0\n",
    "while num < len(coffee):\n",
    "    letter = coffee[num]\n",
    "    print(num, letter)\n",
    "    num += 1"
   ]
  },
  {
   "cell_type": "code",
   "execution_count": 21,
   "metadata": {},
   "outputs": [
    {
     "name": "stdout",
     "output_type": "stream",
     "text": [
      "s\n",
      "t\n",
      "a\n",
      "r\n",
      "b\n",
      "u\n",
      "c\n",
      "k\n",
      "s\n"
     ]
    }
   ],
   "source": [
    "for letter in coffee:\n",
    "    print(letter)"
   ]
  },
  {
   "cell_type": "markdown",
   "metadata": {},
   "source": [
    "### String Slicing\n",
    "<img src=\"http://www.nltk.org/images/string-slicing.png\">\n",
    "<font size=-2>\n",
    "<p  style=\"text-align:right\">&copy; nltk</p>\n",
    "</font>"
   ]
  },
  {
   "cell_type": "code",
   "execution_count": 27,
   "metadata": {},
   "outputs": [
    {
     "name": "stdout",
     "output_type": "stream",
     "text": [
      "monty\n"
     ]
    }
   ],
   "source": [
    "# String Slicing - sequence of characters taken from the string\n",
    "# Format string[start:end:step]; please note end is upto but not including...\n",
    "# workaround for invalid indexes; see book chaper for more details\n",
    "\n",
    "# s[0:5]    s[0:5:2]  s[0:]  s[:5]  s[-3:-1]\n",
    "# s[:2]   +  s[2:] = ?\n",
    "\n",
    "s = 'hello'\n",
    "\n",
    "mp = 'monty python'\n",
    "\n",
    "sliced = mp[:5]\n",
    "print(sliced)"
   ]
  },
  {
   "cell_type": "code",
   "execution_count": 24,
   "metadata": {},
   "outputs": [
    {
     "data": {
      "text/plain": [
       "'he'"
      ]
     },
     "execution_count": 24,
     "metadata": {},
     "output_type": "execute_result"
    }
   ],
   "source": [
    "s = 'hello'\n",
    "\n",
    "# hel\n",
    "s[0:2]"
   ]
  },
  {
   "cell_type": "code",
   "execution_count": 31,
   "metadata": {},
   "outputs": [
    {
     "name": "stdout",
     "output_type": "stream",
     "text": [
      "ming\n",
      "pro\n"
     ]
    }
   ],
   "source": [
    "name = \"programming\"\n",
    "print(name[7:]) #ming\n",
    "print(name[:3]) #pro"
   ]
  },
  {
   "cell_type": "code",
   "execution_count": 33,
   "metadata": {},
   "outputs": [
    {
     "name": "stdout",
     "output_type": "stream",
     "text": [
      "hello\n",
      "hello\n",
      "hello\n",
      "hello\n",
      "hello\n"
     ]
    }
   ],
   "source": [
    "phrase = 'hello'\n",
    "for n in range(5):\n",
    "    sliced = phrase[:n] + phrase[n:] \n",
    "    print(sliced)"
   ]
  },
  {
   "cell_type": "code",
   "execution_count": 34,
   "metadata": {},
   "outputs": [
    {
     "name": "stdout",
     "output_type": "stream",
     "text": [
      "sub-string not found in text\n"
     ]
    }
   ],
   "source": [
    "# testing string with 'in' or 'not in' operators\n",
    "\n",
    "text = 'hello, are you there?'\n",
    "sliced = 'hllo'\n",
    "\n",
    "if sliced in text:\n",
    "    print('sub-string found in text')\n",
    "else:\n",
    "    print('sub-string not found in text')"
   ]
  },
  {
   "cell_type": "markdown",
   "metadata": {},
   "source": [
    "### String Methods\n",
    "Method is a function that belongs to an object and performs some operations on that object.  String objects in python have numerous methods to perform specific operations on the string. The general format is\n",
    "    <font color = 'red'>stringvariable.method(argument) </font><br>\n",
    "\n",
    "See below for a some useful examples.<br>"
   ]
  },
  {
   "cell_type": "code",
   "execution_count": 35,
   "metadata": {},
   "outputs": [
    {
     "name": "stdout",
     "output_type": "stream",
     "text": [
      "True\n",
      "True\n"
     ]
    }
   ],
   "source": [
    "# string testing methods\n",
    "# isalnum(), isalpha(), isdigit(),islower(), isupper(), isspace()\n",
    "# returns true if condition is satisfied and is at least one character in length.\n",
    "\n",
    "ts = \"1234\"\n",
    "bv = ts.isdigit()\n",
    "print(bv)\n",
    "\n",
    "mp = 'monty python'\n",
    "test = mp.islower()\n",
    "print(test)"
   ]
  },
  {
   "cell_type": "code",
   "execution_count": 9,
   "metadata": {},
   "outputs": [
    {
     "name": "stdout",
     "output_type": "stream",
     "text": [
      "True\n",
      "True\n",
      "True\n"
     ]
    }
   ],
   "source": [
    "tv = ' '\n",
    "print(tv.isspace())\n",
    "\n",
    "tv1 = 'TEST' \n",
    "print(tv1.isupper())\n",
    "\n",
    "tv2 = 'Test123'\n",
    "print(tv2.isalnum())"
   ]
  },
  {
   "cell_type": "code",
   "execution_count": 36,
   "metadata": {},
   "outputs": [
    {
     "name": "stdin",
     "output_type": "stream",
     "text": [
      "Enter a number:  1234\n"
     ]
    },
    {
     "name": "stdout",
     "output_type": "stream",
     "text": [
      "1 <class 'str'>\n",
      "2 <class 'str'>\n",
      "3 <class 'str'>\n",
      "4 <class 'str'>\n",
      "Total is: 10\n"
     ]
    }
   ],
   "source": [
    "# using string methods to perform an operation on a string\n",
    "# Summing the digits of number\n",
    "num = input('Enter a number: ')\n",
    "total = 0\n",
    "if num.isdigit():\n",
    "    for digit in num: # for i in string \n",
    "        print(digit, type(digit))\n",
    "        total += int(digit)\n",
    "    print ('Total is:', total)\n",
    "else:\n",
    "    print('Please run again and enter a valid number')"
   ]
  },
  {
   "cell_type": "code",
   "execution_count": 12,
   "metadata": {},
   "outputs": [
    {
     "name": "stdout",
     "output_type": "stream",
     "text": [
      "['monty', 'python']\n",
      "['monty ', 'ython']\n",
      "monty python\n",
      "monty cython\n"
     ]
    }
   ],
   "source": [
    "# string modification methods\n",
    "# split(), replace(old, new)\n",
    "\n",
    "mp = 'monty python'\n",
    "print(mp.split())    # returns a list... more on lists in the next module\n",
    "\n",
    "print(mp.split('p'))\n",
    "newStr = mp.replace('py', 'cy')\n",
    "print(mp)\n",
    "print(newStr)"
   ]
  },
  {
   "cell_type": "code",
   "execution_count": 49,
   "metadata": {},
   "outputs": [
    {
     "data": {
      "text/plain": [
       "['monty', 'python', 'tv', 'show']"
      ]
     },
     "execution_count": 49,
     "metadata": {},
     "output_type": "execute_result"
    }
   ],
   "source": [
    "mp = 'monty python tv show'\n",
    "mp2 = mp.split()\n",
    "mp2"
   ]
  },
  {
   "cell_type": "code",
   "execution_count": 54,
   "metadata": {},
   "outputs": [
    {
     "name": "stdout",
     "output_type": "stream",
     "text": [
      "monty\n",
      "python\n",
      "tv\n",
      "show\n"
     ]
    }
   ],
   "source": [
    "for i in mp2:\n",
    "    print(i)"
   ]
  },
  {
   "cell_type": "code",
   "execution_count": 32,
   "metadata": {},
   "outputs": [
    {
     "name": "stdout",
     "output_type": "stream",
     "text": [
      "  hello world   15\n",
      "hello world 11\n"
     ]
    }
   ],
   "source": [
    "# strip(), lstrip(), rstrip()\n",
    "\n",
    "mystr = '## hello world ##'\n",
    "mystr1 = mystr.strip('##')\n",
    "\n",
    "print(mystr, len(mystr)) \n",
    "print(mystr1, len(mystr1))"
   ]
  },
  {
   "cell_type": "code",
   "execution_count": 42,
   "metadata": {},
   "outputs": [
    {
     "data": {
      "text/plain": [
       "'hello world'"
      ]
     },
     "execution_count": 42,
     "metadata": {},
     "output_type": "execute_result"
    }
   ],
   "source": [
    "mystr = '## hello world ##'\n",
    "mystr1 = mystr.strip('##').strip()\n",
    "mystr1"
   ]
  },
  {
   "cell_type": "code",
   "execution_count": 22,
   "metadata": {},
   "outputs": [
    {
     "name": "stdout",
     "output_type": "stream",
     "text": [
      "monty python\n",
      "True\n",
      "False\n",
      "6\n"
     ]
    }
   ],
   "source": [
    "# more string methods\n",
    "# startswith(substring), endswith(substring), find(substring)\n",
    "print(mp)\n",
    "test=mp.endswith('thon')  # returns boolean value\n",
    "print(test)\n",
    "\n",
    "test=mp.startswith('mty')  # returns boolean value\n",
    "print(test)\n",
    "\n",
    "test=mp.find('python') # method returns lowest index in the string if substring is found \n",
    "print(test)           # replace python with 'mnty'; method returns -1 if substring is not found"
   ]
  },
  {
   "cell_type": "code",
   "execution_count": 91,
   "metadata": {},
   "outputs": [
    {
     "name": "stdout",
     "output_type": "stream",
     "text": [
      "11\n",
      "nanda.kumar\n",
      "5\n",
      "\n"
     ]
    }
   ],
   "source": [
    "email = 'nanda.kumar@outlook.com'\n",
    "ipos = email.find('@')\n",
    "print(ipos)\n",
    "\n",
    "userid = email[:ipos]\n",
    "print(userid)\n",
    "\n",
    "ipos2 = email.find('.')\n",
    "print(ipos2)\n",
    "domain = email[(ipos+1):ipos2] \n",
    "print (domain)\n",
    "# potential errors and correction (userid-dot, if userid-dot rewrite, missing-@)?"
   ]
  },
  {
   "cell_type": "markdown",
   "metadata": {},
   "source": [
    "Exercise: Please write a program to ask the user to input an email (for example: nk999@domainname.com) and then separate the userid from the email and print it.  In the example above, the print output would be nk999.\n"
   ]
  },
  {
   "cell_type": "code",
   "execution_count": 2,
   "metadata": {},
   "outputs": [
    {
     "name": "stdout",
     "output_type": "stream",
     "text": [
      "outlook.com\n",
      "7\n",
      "outlook\n"
     ]
    }
   ],
   "source": [
    "# Program to print domain name from email.  In the above example (nk999@domainname.com), \n",
    "#the output should be domainname \n",
    "\n",
    "email = 'nandakumar@outlook.com'\n",
    "\n",
    "ipos = email.find('@')\n",
    "domain = email[(ipos+1):]\n",
    "print(domain)\n",
    "\n",
    "ipos2 = domain.find('.')\n",
    "print(ipos2)\n",
    "\n",
    "domain2 = domain[:ipos2]\n",
    "print(domain2)"
   ]
  },
  {
   "cell_type": "code",
   "execution_count": 3,
   "metadata": {},
   "outputs": [
    {
     "data": {
      "text/plain": [
       "10"
      ]
     },
     "execution_count": 3,
     "metadata": {},
     "output_type": "execute_result"
    }
   ],
   "source": [
    "ipos"
   ]
  },
  {
   "cell_type": "code",
   "execution_count": 93,
   "metadata": {},
   "outputs": [
    {
     "name": "stdout",
     "output_type": "stream",
     "text": [
      "6\n",
      "valid\n"
     ]
    }
   ],
   "source": [
    "# Input Validation\n",
    "\n",
    "email = 'nk1000@outlook.com'\n",
    "ipos = email.find('@')\n",
    "print(ipos); \n",
    "if ipos == -1:\n",
    "    print('invalid email')\n",
    "else:\n",
    "    print('valid')"
   ]
  },
  {
   "cell_type": "code",
   "execution_count": 1,
   "metadata": {},
   "outputs": [
    {
     "name": "stdin",
     "output_type": "stream",
     "text": [
      "first name Anh\n",
      "middle name Thi\n",
      "last name Luong\n"
     ]
    },
    {
     "name": "stdout",
     "output_type": "stream",
     "text": [
      "A T L\n"
     ]
    }
   ],
   "source": [
    "first_name = input('first name')\n",
    "middle_name = input('middle name')\n",
    "last_name = input('last name')\n",
    "print(first_name[0], middle_name[0], last_name[0])"
   ]
  },
  {
   "cell_type": "code",
   "execution_count": 24,
   "metadata": {},
   "outputs": [
    {
     "name": "stdout",
     "output_type": "stream",
     "text": [
      "Original quote:\n",
      "I think there is a world market for maybe five computers.\n",
      "\n",
      "In uppercase:\n",
      "I THINK THERE IS A WORLD MARKET FOR MAYBE FIVE COMPUTERS.\n",
      "\n",
      "In lowercase:\n",
      "i think there is a world market for maybe five computers.\n",
      "\n",
      "As a title:\n",
      "I Think There Is A World Market For Maybe Five Computers.\n",
      "\n",
      "With a minor replacement:\n",
      "I think there is a world market for maybe millions of computers.\n",
      "\n",
      "Original quote is still:\n",
      "I think there is a world market for maybe five computers.\n"
     ]
    }
   ],
   "source": [
    "# quote from IBM Chairman, Thomas Watson, in 1943\n",
    "quote = \"I think there is a world market for maybe five computers.\"\n",
    "\n",
    "print(\"Original quote:\")\n",
    "print(quote)\n",
    "\n",
    "print(\"\\nIn uppercase:\")\n",
    "print(quote.upper())\n",
    "\n",
    "print(\"\\nIn lowercase:\")\n",
    "print(quote.lower())\n",
    "\n",
    "print(\"\\nAs a title:\")\n",
    "print(quote.title())\n",
    "\n",
    "print(\"\\nWith a minor replacement:\")\n",
    "print(quote.replace(\"five\", \"millions of\"))\n",
    "\n",
    "print(\"\\nOriginal quote is still:\")\n",
    "print(quote)\n"
   ]
  },
  {
   "cell_type": "markdown",
   "metadata": {},
   "source": [
    "### Excercises - Strings\n",
    "1. Initials\n",
    "\n",
    "Write a program that gets a string containing a person’s first, middle, and last names, and then display their first, middle, and last initials. For example, if the user enters John William Smith the program should display J. W. S.\n",
    "\n",
    "2. Date printer\n",
    "\n",
    "Write a program that reads a string from the user containing a date in the form mm/dd/ yyyy. It should print the date in the form March 12, 2014.\n",
    "\n",
    "3. Sentence Capitalizer\n",
    "\n",
    "Write a program with a function that accepts a string as an argument and returns a copy of the string with the first character of each sentence capitalized. For instance, if the argument is “hello. my name is Joe. what is your name?” the function should return the string “Hello. My name is Joe. What is your name?” The program should let the user enter a string and then pass it to the function. The modified string should be displayed.\n",
    "\n",
    "4. Word Separator\n",
    "\n",
    "Write a program that accepts as input a sentence in which all of the words are run together but the first character of each word is uppercase. Convert the sentence to a string in which the words are separated by spaces and only the first word starts with an uppercase letter. For example the string “StopAndSmellTheRoses.” would be converted to “Stop and smell the roses.”\n",
    "\n",
    "5. Pig Latin\n",
    "\n",
    "Write a program that accepts a sentence as input and converts each word to “Pig Latin.” In one version, to convert a word to Pig Latin you remove the first letter and place that letter at the end of the word. Then you append the string “ay” to the word. Here is an example:\n",
    "\n",
    "English: I SLEPT MOST OF THE NIGHT\n",
    "\n",
    "Pig Latin: IAY LEPTSAY OSTMAY FOAY HETAY IGHTNAY\n",
    "\n",
    "6. Caesar Cipher\n",
    "\n",
    "A \"Caesar Cipher is a simple way of encrypting a message by replacing each letter with a letter a certain number of spaces up the alphabet. For example, if shifting the message by 13 an A would become an N, while an S would wrap around to the start of the alphabet to become an F\n",
    "\n",
    "Write a program that asks the user for a message (a string) and a shift amount (an integer). The values should be passed to a function that accepts the string and the integer as arguments, and returns a string that represents the original message but encrypted, by shifting the letters by the integer.\n",
    "\n",
    "For example, a string of \"BEWARE THE IDES OF MARCH\" and an integer of 13 should result in a string of \"ORJNER GUR VQRF BS ZNEPU\"."
   ]
  }
 ],
 "metadata": {
  "kernelspec": {
   "display_name": "Python 3",
   "language": "python",
   "name": "python3"
  },
  "language_info": {
   "codemirror_mode": {
    "name": "ipython",
    "version": 3
   },
   "file_extension": ".py",
   "mimetype": "text/x-python",
   "name": "python",
   "nbconvert_exporter": "python",
   "pygments_lexer": "ipython3",
   "version": "3.8.8"
  }
 },
 "nbformat": 4,
 "nbformat_minor": 4
}
