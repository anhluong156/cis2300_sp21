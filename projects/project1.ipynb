{
 "cells": [
  {
   "cell_type": "markdown",
   "metadata": {},
   "source": [
    "#### CIS 2300. Spring 2021\n",
    "**Instructor**: Anh Luong\n",
    "### Project 1\n",
    "#### Due Dates: May 2nd, 11:59 PM\n",
    "\n",
    "#### Instructions\n",
    "- **Choose one of the following 3 programs to design**\n",
    "- Put all group members' names inside your code file\n",
    "- Name the file with the name of the person who's submitting: \n",
    "    FirstLastName_Project1.ipynb\n",
    "    \n",
    "#### Grading Critera:\n",
    "- 90% code completeness and correctness\n",
    "- 10% code clarity (using clear variable names, writing comments, following general python code writing guidelines)"
   ]
  },
  {
   "cell_type": "markdown",
   "metadata": {},
   "source": [
    "### 1. Budget program\n",
    "Ask user to enter:\n",
    "- their monthly budget overall, and the monthly budget for each category (i.e., rent, groceries, transportation, etc. Need at least 5 categories). \n",
    "- their expenses in the past month for each category (user can choose how many expenses they want to enter for each category)\n",
    "- monthly income\n",
    "- which city they are living in\n",
    "- other things you might want to add (e.g., user's goal for savings)\n",
    "\n",
    "Then display the following:\n",
    "- highest and lowest values for expenses, in general\n",
    "- highest and lowest categories of expenses (category names and amounts)\n",
    "- the % of total budget each expense category contributed to\n",
    "- whether the person exceeded their total monthly budget, by how much, in amount & %\n",
    "- whether the person exceeded each budgeted expense category, by how much, in amount & %\n",
    "- amount and % of total budget, and of each cateogory's budget left, if any\n",
    "- whether the person's rent is above/below the median rent in Manhattan/Brooklyn/Queens/etc.\n",
    "- whether the person is rent burdened (more than 30% of income would be considered rent burdened)\n",
    "- other features you might want to add (e.g., user's progress in achieving their savings goal, or standard recommendations for savings expressed in % of their income, and amounts).\n",
    "\n",
    "Make sure all amounts displayed have appropriate format. And that you have validation for all inputs.\n"
   ]
  },
  {
   "cell_type": "markdown",
   "metadata": {},
   "source": [
    "### 2. Stock program\n",
    "\n",
    "Suppose you have USD 100,000 to invest in 5 stocks for your portfolio. Pick the 5 stocks, and get their daily opening and closing prices for a month within 2021. Also determine the comission fees for both buying and selling the stocks. Determine how many shares you choose to buy for each of your 5 stocks (whole shares only, and the total investment cannot go over USD 100,000). You would buy the stocks using their opening prices on the first day of the period, and sell all of them at their closing prices on the last day of the period.\n",
    "\n",
    "Similar to how you invested in your 5 stocks, invest another USD 100,000 in the NASDAQ Composite Index for the same period you chose for your 5 stocks' investment. In order to do that, assume you can “buy” the index at its value divided by 100 (e.g. if the index is 2100, then the \"price\" is USD 21.00). You will buy the index at its opening value on the first day of the period, divided by 100, and sell it at its closing value on the last day of the period, divided by 100. Determine how many shares you choose to \"buy\" NASDAQ Index (whole shares only, and the total investment cannot exceed USD 100,000).\n",
    "\n",
    "The program needs to display:\n",
    "\n",
    "- highest/lowest stock prices for both opening and closing, and the corresponding dates\n",
    "- average stock price for both closing and opening\n",
    "- lowest and highest daily change in closing price (in amount, %), and the corresponding dates\n",
    "- average daily change in closing price (amount, %)\n",
    "- whether and by how much you gained or lost money after selling all your shares of the 5 stocks, and after deducting the comission fees (for both times) \n",
    "- the ROI of each stock, and of your entire portfolio\n",
    "- whether and by much you gained or lost money after \"selling\" all your NASDAQ's shares, and  after deducting the comission fees (for both times)\n",
    "- the ROI of your NASDAQ's \"investment\".\n",
    "- compare your entire portfolio's ROI with how NASDAQ performed, if your portfolio's ROI is higher than the NASDAQ's ROI, then your portfolio \"beat\" the market. If not, then your portfolio underperformed compared to the market. If equal, then your portfolio is comparable in performance to the market.\n",
    "\n",
    "Make sure all amounts displayed have appropriate format. And that you have validation for any user inputs."
   ]
  },
  {
   "cell_type": "markdown",
   "metadata": {},
   "source": [
    "### 3. Chatbot program \n",
    "\n",
    "Requirements:\n",
    "\n",
    "- Have pre-programed responses to clients' input (One idea is to do something like the sample exercise listed below)\n",
    "- Your program should first introduce its name, provide some greetings, ask for user's name and ask what they want to discuss today. Then it should give responses to users' input (using conditionals, see sample exercise below for a general idea)\n",
    "- Your program should also have a description at the beginning letting user know that if they want to stop the conversation at any point, type \"quit\" and your program should have an ending message and terminate at that point.\n",
    "- have code for ending/starting each session, and save all clients input and the system's responses in each session.\n",
    "- ask whether user is administrator or client\n",
    "- have password validation for the administrator\n",
    "\n",
    "- When an administrator uses the program, they can view the following information if they wish:\n",
    "    - how many sessions have been carried out with clients\n",
    "    - display all the client's input in each session (identified by number)\n",
    "    - average length of the client's input\n",
    "    - the most frequently used word/phrase by the user\n",
    "    - the most frequently displayed feedback by the program\n"
   ]
  },
  {
   "cell_type": "markdown",
   "metadata": {},
   "source": [
    "*In the book \"The Most Human Human: What Talking with Computers Teaches Us About What It Means to Be Alive\", Brian Christian briefly discussed ELIZA: \"It was the first computer chat program, written in 1964 by Joseph Weizenbaum at MIT. Its conversational style was modeled after the Rogerian (client-centered) psychotherapy technique (which treats the client as an equal partner in figuring out their own feelings, sources of problems and solutions). ELIZA extracts key words from the user's own language, and pose their statements back to them. (\"I am unhappy...\" \"Do you think coming here will help you not to be unhappy?\"; \"I want to/ need to....\" \"What would it mean to you if you did that?\"). If in doubt, it might fall back on some generic phrases like \"Please go on.\" or \"Tell me more\".) A rather simple program with virtually no memory, no processing power and a few hundred lines of code, ELIZA evoked a stunning response. Many of the people who first talked to ELIZA believed it was a real person talking to them and reported having had a meaningful therapeutic experience. Although its original creator was horrified by this reaction and terminated the ELIZA project, ELIZA continued to become widely known among programmers and academics. Many modern chat bots are programmed after ELIZA.\"*\n",
    "\n",
    "*You can try having a conversation with ELIZA through this link, or many other links on the internet.* http://manifestation.com/neurotoys/eliza.php3/\n",
    "\n",
    "\n",
    "Using what you have learned in class, write a simplified version of ELIZA.\n",
    "\n",
    "Requirements for the program:\n",
    "\n",
    "- Your program should have a description letting user know that if they want to stop the conversation, type \"quit\" and your program should have an ending message and terminate at that point.\n",
    "- Your program should first introduce its name, provide some greetings, ask for user's name and ask what they want to discuss today. Then it should give responses to users' input based on the following simple rules:\n",
    "- when user's input includes the word \"mother\", print \"Tell me more about your mother\"\n",
    "- when user's input includes the word \"father\", print \"Tell me more about your father\"\n",
    "- when user's input includes the word \"I\" and the word \"think\", print \"Why do you think that way?\" or \"Do you really think so?\" or \"I see.\"\n",
    "- when user's input includes the word \"I\" and the word \"feel\", print \"Why do you feel that way?\" or \"How often do you feel that way?\"\n",
    "- when user's input includes the word \"I\" and the words \"want to\" or the word \"I\" and \"need to\", print \"What would it mean to you if you did that?\"\n",
    "- when user's input includes the word \"you\", print \"We are here to talk about you, not me.\"\n",
    "- and for all other cases different from the cases above, print \"Please elaborate.\" or \"Please tell me more\" or \"Go on.\"\n",
    "\n"
   ]
  }
 ],
 "metadata": {
  "kernelspec": {
   "display_name": "Python 3",
   "language": "python",
   "name": "python3"
  },
  "language_info": {
   "codemirror_mode": {
    "name": "ipython",
    "version": 3
   },
   "file_extension": ".py",
   "mimetype": "text/x-python",
   "name": "python",
   "nbconvert_exporter": "python",
   "pygments_lexer": "ipython3",
   "version": "3.8.8"
  }
 },
 "nbformat": 4,
 "nbformat_minor": 4
}
